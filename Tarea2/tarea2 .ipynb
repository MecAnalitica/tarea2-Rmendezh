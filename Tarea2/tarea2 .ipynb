{
 "cells": [
  {
   "cell_type": "code",
   "execution_count": null,
   "metadata": {},
   "outputs": [],
   "source": [
    " Rodrigo Mendez Hernandez"
   ]
  },
  {
   "cell_type": "code",
   "execution_count": null,
   "metadata": {},
   "outputs": [],
   "source": [
    "Las gráficas se incluyen en un pdf adjunto, debidamente etiquetadas, debido  reiterados problemas en Jupiter, issue 2747. \n",
    "Al cual no pude dar solucion, problema que no se presenta en LINUX. Donde se terminaron graficando los programas."
   ]
  },
  {
   "cell_type": "code",
   "execution_count": null,
   "metadata": {},
   "outputs": [],
   "source": [
    "1.- Límite lineal. Considerando ángulos pequeños, tenemos la ecuación lineal forzada y amortiguada vista en clase, cuya solución particular (aquella que domina a tiempos grandes) tiene una función Coseno con una cierta amplitud y fase dada en términos de los parametros de la ecuación anterior. Tomando \n",
    "\n",
    "a) Graficar la Amplitud como función de la frecuencia de la fuerza externa. ¿Exista alguna resonancia?"
   ]
  },
  {
   "cell_type": "code",
   "execution_count": 1,
   "metadata": {},
   "outputs": [
    {
     "ename": "NameError",
     "evalue": "name 'D' is not defined",
     "output_type": "error",
     "traceback": [
      "\u001b[1;31m---------------------------------------------------------------------------\u001b[0m",
      "\u001b[1;31mNameError\u001b[0m                                 Traceback (most recent call last)",
      "\u001b[1;32m<ipython-input-1-2f2275bb36b9>\u001b[0m in \u001b[0;36m<module>\u001b[1;34m()\u001b[0m\n\u001b[0;32m     24\u001b[0m \u001b[1;33m\u001b[0m\u001b[0m\n\u001b[0;32m     25\u001b[0m \u001b[0mplt\u001b[0m\u001b[1;33m.\u001b[0m\u001b[0mfigure\u001b[0m\u001b[1;33m(\u001b[0m\u001b[0mfigsize\u001b[0m\u001b[1;33m=\u001b[0m\u001b[1;33m(\u001b[0m\u001b[1;36m10\u001b[0m\u001b[1;33m,\u001b[0m\u001b[1;36m5\u001b[0m\u001b[1;33m)\u001b[0m\u001b[1;33m)\u001b[0m\u001b[1;33m\u001b[0m\u001b[0m\n\u001b[1;32m---> 26\u001b[1;33m \u001b[0mplt\u001b[0m\u001b[1;33m.\u001b[0m\u001b[0mplot\u001b[0m\u001b[1;33m(\u001b[0m\u001b[0mD\u001b[0m\u001b[1;33m,\u001b[0m\u001b[0mw\u001b[0m\u001b[1;33m)\u001b[0m\u001b[1;33m\u001b[0m\u001b[0m\n\u001b[0m\u001b[0;32m     27\u001b[0m \u001b[0mplt\u001b[0m\u001b[1;33m.\u001b[0m\u001b[0mtitle\u001b[0m\u001b[1;33m(\u001b[0m\u001b[1;34m'Amplitud como funcion de la frecuencia de la fuerza externa'\u001b[0m\u001b[1;33m)\u001b[0m\u001b[1;33m\u001b[0m\u001b[0m\n\u001b[0;32m     28\u001b[0m \u001b[0mplt\u001b[0m\u001b[1;33m.\u001b[0m\u001b[0mylabel\u001b[0m\u001b[1;33m(\u001b[0m\u001b[1;34m'Amplitud'\u001b[0m\u001b[1;33m)\u001b[0m\u001b[1;33m\u001b[0m\u001b[0m\n",
      "\u001b[1;31mNameError\u001b[0m: name 'D' is not defined"
     ]
    }
   ],
   "source": [
    "import scipy, scipy.integrate\n",
    "import matplotlib as mpl\n",
    "import matplotlib.pyplot as plt\n",
    "import numpy as np\n",
    "import matplotlib.pyplot as plt\n",
    "import numpy as np\n",
    "\n",
    "def amp(mu, A, w0, beta, w, D) :  \n",
    "\t#Definiendo las variables\n",
    "\tmu = 0.05\n",
    "\tA=1\n",
    "\tw0=1\n",
    "\tbeta=mu/2\n",
    "\tw=0\n",
    "\tampmaxima = 3\n",
    "    \n",
    "\twgraf = []                 #Creando una lista.\n",
    "\tDgraf = []\n",
    "\tif w < ampmaxima:\n",
    "\t    D = A/((np.sqrt((w0**2-w**2)**2)+(4* w**2 * beta**2))) #Ecuacion para la amplitud. \n",
    "\t    return(D)\n",
    "\t    wgraf.append(w)        #Asignando valores a la lista.\n",
    "\t    Dgraf.append(D)\n",
    "\n",
    "plt.figure(figsize=(10,5))\n",
    "plt.plot(D,w)\n",
    "plt.title('Amplitud como funcion de la frecuencia de la fuerza externa')\n",
    "plt.ylabel('Amplitud')\n",
    "plt.xlabel('Frecuencia de la fuerza externa')\n",
    "plt.xlim(-25, 25)\n",
    "plt.ylim(-25, 25)\n",
    "plt.grid()\n",
    "plt.show()\n"
   ]
  },
  {
   "cell_type": "code",
  
    "b) Graficar la Fase de la solución como función de la frecuencia de la fuerza externa."
   ]
  },
  {
   "cell_type": "code",
   "execution_count": null,
   "metadata": {},
   "outputs": [],
   "source": [
    "import scipy, scipy.integrate\n",
    "import matplotlib as mpl\n",
    "import matplotlib.pyplot as plt\n",
    "import numpy as np\n",
    "import matplotlib.pyplot as plt\n",
    "import math as m\n",
    "import pylab as pl\n",
    "import sympy as sp\n",
    "\n",
    "#Definiendo las variables\n",
    "mu = 0.05\n",
    "A=1\n",
    "w0=1\n",
    "beta=mu/2\n",
    "w=0\n",
    "ampmaxima = 3\n",
    "    \n",
    "wgraf = []                        #Creando una lista\n",
    "dgraf = []\n",
    "if w < ampmaxima:\n",
    "\t m.asin((2 * w * beta)/(np.sqrt((w0**2) - w**2)**2) + 4*w**2 * beta**2) =d  #Fase como funcion de la fuerza externa.\n",
    "                                                                                #La cual se tomo de esta forma para evitar indeterminaciones\n",
    "wgraf.append(w)                                   #Asignando valores a la lista\n",
    "dgraf.append(delta)\t    \n",
    "d+= 0.020\n",
    "\n",
    "plt.figure(figsize=(10,5))\n",
    "plt.plot(delta,w)\n",
    "plt.title('Amplitud como funcion de la frecuencia de la fuerza externa')\n",
    "plt.ylabel('Fase de la solucion')\n",
    "plt.xlabel('Fase de la solucion como funcion de la frecuencia de la fuerza externa.')\n",
    "plt.xlim(0,2)\n",
    "plt.ylim(0, 3)\n",
    "plt.show()\n"
   ]
  },
  {
   "cell_type": "code",
   "execution_count": null,
   "metadata": {},
   "outputs": [],
   "source": [
    "c) Graficar el ángulo y la velocidad angular como función del tiempo para 2 condiciones iniciales distintas.\n"
   ]
  },
  {
   "cell_type": "code",
   "execution_count": null,
   "metadata": {},
   "outputs": [],
   "source": [
    "import scipy, scipy.integrate\n",
    "import matplotlib as mpl\n",
    "import matplotlib.pyplot as plt\n",
    "import numpy as np\n",
    "import matplotlib.pyplot as plt\n",
    "import numpy as np\n",
    "\n",
    "tiempo = 50\n",
    "\n",
    "def posicion(D, delta, w, angValues, tiempValues):\n",
    "    t = 0\n",
    "    while(t < tiempo): \n",
    "      \n",
    "        ang = (D * (np.cos(w*t - delta)))  #Solucion particular, la oscilacion tiende a la oscilacion descrita por la oscilacion particular\n",
    "\n",
    "        angValues.append(ang)\n",
    "        tiempValues.append(t)\n",
    "\n",
    "        t += .50\n",
    "\n",
    "delta = 0\n",
    "mu = 0.05\n",
    "beta = mu/2\n",
    "w = 3\n",
    "w_0 = 1.14\n",
    "omega = np.sqrt(w_0 ** 2 - beta ** 2)\n",
    "D = 1\n",
    "\n",
    "angValues1,  tiempValues1 = [], []\n",
    "\n",
    "posicion(D, delta, w, angValues1, tiempValues1)\n",
    "\n",
    "plt.figure(figsize=(10,5))\n",
    "plt.plot(tiempValues1, angValues1)  \n",
    "plt.title('Angulo como funcion del tiempo, condiciones iniciales 2')\n",
    "plt.ylabel('Angulo')\n",
    "plt.xlabel('Tiempo t')\n",
    "plt.xlim(-20, 20)\n",
    "plt.ylim(-20, 20)\n",
    "plt.grid()\n",
    "plt.show()"
   ]
  },
  {
   "cell_type": "code",
   "execution_count": null,
   "metadata": {},
   "outputs": [],
   "source": [
    "Las primeras condiciones iniciales son las siguientes:\n",
    "delta = 3\n",
    "mu = 0.05\n",
    "beta = mu/2\n",
    "w = 1\n",
    "w_0 = 2.5\n",
    "omega = np.sqrt(w_0 * 2 - beta * 2)\n",
    "A = 5\n",
    "\n",
    "y las segundas son las mostradas en el código."
   ]
  },
  {
   "cell_type": "code",
   "execution_count": null,
   "metadata": {},
   "outputs": [],
   "source": [
    "d) Graficar en el espacio fase las 2 trayectorias con condiciones iniciales distintas del inciso anterior."
   ]
  },
  {
   "cell_type": "code",
   "execution_count": 10,
   "metadata": {},
   "outputs": [
    
    
     ]
    }
   ],
   "source": [
    "import scipy, scipy.integrate\n",
    "import matplotlib as mpl\n",
    "import matplotlib.pyplot as plt\n",
    "import numpy as np\n",
    "import matplotlib.pyplot as plt\n",
    "import numpy as np\n",
    "\n",
    "tiempo = 300\n",
    "\n",
    "def posicion(F,A, delta, w, phi,  angValues, tiempValues, velocidadValues):\n",
    "    tiempo = 0\n",
    "    \n",
    "angValues1 = []\n",
    "tiempValues1 = []\n",
    "velocidadValues1 = []\n",
    "tiempValues1 = []\n",
    "while(t < tiempo): \n",
    "      \n",
    "        ang = (A * (np.cos(w*t - delta)))  #Solucion particular\n",
    "    velocidad = -1*A * w * np.sin(w*t - delta)  #Solucion particular\n",
    "\n",
    "\n",
    "\n",
    "tiempo += .50\n",
    "\n",
    "delta = 1\n",
    "mu = 0.1\n",
    "beta = mu/2\n",
    "w = 0.3\n",
    "w_0 = 1\n",
    "omega = np.sqrt(w_0 ** 2 - beta ** 2)\n",
    "A = 2.0\n",
    "F = 0.5\n",
    "phi= 0.5\n",
    "\n",
    "\n",
    "angValues.append(ang)\n",
    "tiempValues.append(t)\n",
    "velocidadValues.append(velocidad)\n",
    "posicion(F,A, delta, w, phi,  angValues1, tiempValues1, velocidadValues1)\n",
    "\n",
    "plt.figure(figsize=(10,5))\n",
    "plt.plot(angValues1, velocidadValues1)  \n",
    "plt.title('Espacio fase las 2 trayectorias mu=0.1')\n",
    "plt.ylabel('Velocidad angular')\n",
    "plt.xlabel('Posicion angular')\n",
    "plt.xlim(-3, 3)\n",
    "plt.ylim(-3, 3)\n",
    "plt.grid()\n",
    "plt.show()"
   ]
  },
  {
   "cell_type": "code",
   "execution_count": null,
   "metadata": {},
   "outputs": [],
   "source": [
    "e) Graficar en el espacio fase 2 trayectorias con dos A's distintas, con mu = 0 y la misma confición inicial.\n",
    "Se utilizo el mismo programa que el inciso anterior, con las siguientes condiciones iniciales para la primera grafica:\n",
    "    A=5\n",
    "Y a=0.4\n",
    "delta = 1\n",
    "mu = 0\n",
    "beta = mu/2\n",
    "w = 0.3\n",
    "w_0 = 1\n",
    "omega = np.sqrt(w_0 * 2 - beta * 2)\n",
    "A = 0.4\n",
    "F = 0.5\n",
    "phi= 0.5\n",
    "\n",
    "Y con las mostradas en el codigo para la segunda."
   ]
  },
  {
   "cell_type": "code",
   "execution_count": null,
   "metadata": {},
   "outputs": [],
   "source": [
    "f) Graficar en el espacio fase 2 trayectorias con , para la misma amplitud (A=1) y la misma confición inicial.\n",
    "Se utilizo el mismo programa que el inciso d, con las siguientes condiciones iniciales:\n",
    "delta = 3\n",
    "mu = 0, 0.04, 2.0\n",
    "beta = mu/2\n",
    "w = 1\n",
    "w_0 = 1\n",
    "omega = np.sqrt(w_0 * 2 - beta * 2)\n",
    "A = 1\n",
    "F = 3\n",
    "phi= 0.5\n"
   ]
  },
  {
   "cell_type": "code",
   "execution_count": null,
   "metadata": {},
   "outputs": [],
   "source": [
    "2.- Ecuación no lineal no forzada sin amortiguamiento.\n",
    "\n",
    "a) Para un ángulo inicial de 70 grados en reposo y una frecuencia natural unitaria, realiza una gráfica donde compares la solucion numérica del ángulo y su velocidad con aquella de la ecuación lineal usando las mismas condiciones iniciales."
   ]
  },
  {
   "cell_type": "code",
   "execution_count": 11,
   "metadata": {},
   "outputs": [
    {
     "ename": "error",
     "evalue": "The function and its Jacobian must be callable functions.",
     "output_type": "error",
     "traceback": [
      "\u001b[1;31m---------------------------------------------------------------------------\u001b[0m",
      "\u001b[1;31merror\u001b[0m                                     Traceback (most recent call last)",
      "\u001b[1;32m<ipython-input-11-1f8630643f68>\u001b[0m in \u001b[0;36m<module>\u001b[1;34m()\u001b[0m\n\u001b[0;32m     24\u001b[0m \u001b[1;31m# Para mayor info: help(odeint)\u001b[0m\u001b[1;33m\u001b[0m\u001b[1;33m\u001b[0m\u001b[0m\n\u001b[0;32m     25\u001b[0m \u001b[1;31m# solucion numerica\u001b[0m\u001b[1;33m\u001b[0m\u001b[1;33m\u001b[0m\u001b[0m\n\u001b[1;32m---> 26\u001b[1;33m \u001b[0msol\u001b[0m \u001b[1;33m=\u001b[0m \u001b[0modeint\u001b[0m\u001b[1;33m(\u001b[0m\u001b[0my0\u001b[0m\u001b[1;33m,\u001b[0m \u001b[0mx\u001b[0m\u001b[1;33m,\u001b[0m \u001b[0mdf\u001b[0m\u001b[1;33m)\u001b[0m\u001b[1;33m\u001b[0m\u001b[0m\n\u001b[0m\u001b[0;32m     27\u001b[0m \u001b[0my\u001b[0m\u001b[1;33m=\u001b[0m\u001b[0msol\u001b[0m\u001b[1;33m[\u001b[0m\u001b[1;33m:\u001b[0m\u001b[1;33m,\u001b[0m\u001b[1;36m0\u001b[0m\u001b[1;33m]\u001b[0m \u001b[1;31m#toma el vector correspondiente a la solucion de y1\u001b[0m\u001b[1;33m\u001b[0m\u001b[0m\n\u001b[0;32m     28\u001b[0m \u001b[0mplot\u001b[0m\u001b[1;33m(\u001b[0m\u001b[0mx\u001b[0m\u001b[1;33m,\u001b[0m\u001b[0my\u001b[0m\u001b[1;33m)\u001b[0m\u001b[1;33m\u001b[0m\u001b[0m\n",
      "\u001b[1;32m~\\Anaconda3\\lib\\site-packages\\scipy\\integrate\\odepack.py\u001b[0m in \u001b[0;36modeint\u001b[1;34m(func, y0, t, args, Dfun, col_deriv, full_output, ml, mu, rtol, atol, tcrit, h0, hmax, hmin, ixpr, mxstep, mxhnil, mxordn, mxords, printmessg, tfirst)\u001b[0m\n\u001b[0;32m    231\u001b[0m                              \u001b[0mfull_output\u001b[0m\u001b[1;33m,\u001b[0m \u001b[0mrtol\u001b[0m\u001b[1;33m,\u001b[0m \u001b[0matol\u001b[0m\u001b[1;33m,\u001b[0m \u001b[0mtcrit\u001b[0m\u001b[1;33m,\u001b[0m \u001b[0mh0\u001b[0m\u001b[1;33m,\u001b[0m \u001b[0mhmax\u001b[0m\u001b[1;33m,\u001b[0m \u001b[0mhmin\u001b[0m\u001b[1;33m,\u001b[0m\u001b[1;33m\u001b[0m\u001b[0m\n\u001b[0;32m    232\u001b[0m                              \u001b[0mixpr\u001b[0m\u001b[1;33m,\u001b[0m \u001b[0mmxstep\u001b[0m\u001b[1;33m,\u001b[0m \u001b[0mmxhnil\u001b[0m\u001b[1;33m,\u001b[0m \u001b[0mmxordn\u001b[0m\u001b[1;33m,\u001b[0m \u001b[0mmxords\u001b[0m\u001b[1;33m,\u001b[0m\u001b[1;33m\u001b[0m\u001b[0m\n\u001b[1;32m--> 233\u001b[1;33m                              int(bool(tfirst)))\n\u001b[0m\u001b[0;32m    234\u001b[0m     \u001b[1;32mif\u001b[0m \u001b[0moutput\u001b[0m\u001b[1;33m[\u001b[0m\u001b[1;33m-\u001b[0m\u001b[1;36m1\u001b[0m\u001b[1;33m]\u001b[0m \u001b[1;33m<\u001b[0m \u001b[1;36m0\u001b[0m\u001b[1;33m:\u001b[0m\u001b[1;33m\u001b[0m\u001b[0m\n\u001b[0;32m    235\u001b[0m         \u001b[0mwarning_msg\u001b[0m \u001b[1;33m=\u001b[0m \u001b[0m_msgs\u001b[0m\u001b[1;33m[\u001b[0m\u001b[0moutput\u001b[0m\u001b[1;33m[\u001b[0m\u001b[1;33m-\u001b[0m\u001b[1;36m1\u001b[0m\u001b[1;33m]\u001b[0m\u001b[1;33m]\u001b[0m \u001b[1;33m+\u001b[0m \u001b[1;34m\" Run with full_output = 1 to get quantitative information.\"\u001b[0m\u001b[1;33m\u001b[0m\u001b[0m\n",
      "\u001b[1;31merror\u001b[0m: The function and its Jacobian must be callable functions."
     ]
    }
   ],
   "source": [
    "from matplotlib import *\n",
    "from numpy import *\n",
    "from scipy.integrate import odeint\n",
    "import matplotlib.pyplot as plt\n",
    "import numpy as np\n",
    "import sympy \n",
    "from scipy.integrate import odeint\n",
    "\n",
    "#theta''+w**2 * sin(theta) = 0\n",
    "\n",
    "def df(y,x):\n",
    "    y1, y2= y[0], y[1] #variables de paso\n",
    "    dy1 = x -np.sin(y)\n",
    "    dy2 = x -y\n",
    "\n",
    "    return [dy1,dy2]\n",
    "\n",
    "# Condiciones iniciales \n",
    "y0 =[0,1]\n",
    "\n",
    "# Definicion del rango \n",
    "x = linspace(0,6,500)\n",
    "\n",
    "# Para mayor info: help(odeint)\n",
    "# solucion numerica\n",
    "sol = odeint(y0, x, df)\n",
    "y=sol[:,0] #toma el vector correspondiente a la solucion de y1\n",
    "plot(x,y)\n"
   ]
  },
  {
   "cell_type": "code",
   "execution_count": null,
   "metadata": {},
   "outputs": [],
   "source": []
  }
 ],
 "metadata": {
  "kernelspec": {
   "display_name": "Python 3",
   "language": "python",
   "name": "python3"
  },
  "language_info": {
   "codemirror_mode": {
    "name": "ipython",
    "version": 3
   },
   "file_extension": ".py",
   "mimetype": "text/x-python",
   "name": "python",
   "nbconvert_exporter": "python",
   "pygments_lexer": "ipython3",
   "version": "3.7.0"
  }
 },
 "nbformat": 4,
 "nbformat_minor": 2
}
